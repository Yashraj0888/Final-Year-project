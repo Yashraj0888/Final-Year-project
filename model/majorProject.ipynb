{
  "cells": [
    {
      "cell_type": "code",
      "execution_count": 4,
      "metadata": {
        "trusted": true
      },
      "outputs": [],
      "source": [
        "import pandas as pd\n",
        "import numpy as np\n",
        "from matplotlib import pyplot as plt\n",
        "%matplotlib inline\n",
        "import matplotlib \n",
        "matplotlib.rcParams[\"figure.figsize\"] = (20,10)"
      ]
    },
    {
      "cell_type": "code",
      "execution_count": 6,
      "metadata": {
        "trusted": true
      },
      "outputs": [
        {
          "data": {
            "text/html": [
              "<div>\n",
              "<style scoped>\n",
              "    .dataframe tbody tr th:only-of-type {\n",
              "        vertical-align: middle;\n",
              "    }\n",
              "\n",
              "    .dataframe tbody tr th {\n",
              "        vertical-align: top;\n",
              "    }\n",
              "\n",
              "    .dataframe thead th {\n",
              "        text-align: right;\n",
              "    }\n",
              "</style>\n",
              "<table border=\"1\" class=\"dataframe\">\n",
              "  <thead>\n",
              "    <tr style=\"text-align: right;\">\n",
              "      <th></th>\n",
              "      <th>bhk</th>\n",
              "      <th>type</th>\n",
              "      <th>area_sq_ft</th>\n",
              "      <th>location</th>\n",
              "      <th>price_lakh</th>\n",
              "      <th>carpet_area</th>\n",
              "      <th>status</th>\n",
              "      <th>bathrooms</th>\n",
              "    </tr>\n",
              "  </thead>\n",
              "  <tbody>\n",
              "    <tr>\n",
              "      <th>0</th>\n",
              "      <td>3</td>\n",
              "      <td>Independent</td>\n",
              "      <td>1100</td>\n",
              "      <td>Rajajipuram</td>\n",
              "      <td>33.0</td>\n",
              "      <td>720</td>\n",
              "      <td>StatusReady</td>\n",
              "      <td>2</td>\n",
              "    </tr>\n",
              "    <tr>\n",
              "      <th>1</th>\n",
              "      <td>3</td>\n",
              "      <td>Independent</td>\n",
              "      <td>1200</td>\n",
              "      <td>Sarojini Nagar</td>\n",
              "      <td>27.0</td>\n",
              "      <td>NaN</td>\n",
              "      <td>StatusUnder</td>\n",
              "      <td>2</td>\n",
              "    </tr>\n",
              "    <tr>\n",
              "      <th>2</th>\n",
              "      <td>2</td>\n",
              "      <td>Independent</td>\n",
              "      <td>1250</td>\n",
              "      <td>Jankipuram</td>\n",
              "      <td>50.0</td>\n",
              "      <td>1000</td>\n",
              "      <td>StatusReady</td>\n",
              "      <td>2</td>\n",
              "    </tr>\n",
              "    <tr>\n",
              "      <th>3</th>\n",
              "      <td>3</td>\n",
              "      <td>Independent</td>\n",
              "      <td>1320</td>\n",
              "      <td>Omaxe City</td>\n",
              "      <td>42.0</td>\n",
              "      <td>900</td>\n",
              "      <td>StatusReady</td>\n",
              "      <td>3</td>\n",
              "    </tr>\n",
              "    <tr>\n",
              "      <th>4</th>\n",
              "      <td>3</td>\n",
              "      <td>Independent</td>\n",
              "      <td>900</td>\n",
              "      <td>Vrindavan Yojna</td>\n",
              "      <td>48.0</td>\n",
              "      <td></td>\n",
              "      <td>StatusReady</td>\n",
              "      <td>2</td>\n",
              "    </tr>\n",
              "  </tbody>\n",
              "</table>\n",
              "</div>"
            ],
            "text/plain": [
              "   bhk         type  area_sq_ft         location  price_lakh carpet_area  \\\n",
              "0    3  Independent        1100      Rajajipuram        33.0         720   \n",
              "1    3  Independent        1200   Sarojini Nagar        27.0         NaN   \n",
              "2    2  Independent        1250       Jankipuram        50.0        1000   \n",
              "3    3  Independent        1320       Omaxe City        42.0         900   \n",
              "4    3  Independent         900  Vrindavan Yojna        48.0               \n",
              "\n",
              "        status  bathrooms  \n",
              "0  StatusReady          2  \n",
              "1  StatusUnder          2  \n",
              "2  StatusReady          2  \n",
              "3  StatusReady          3  \n",
              "4  StatusReady          2  "
            ]
          },
          "execution_count": 6,
          "metadata": {},
          "output_type": "execute_result"
        }
      ],
      "source": [
        "df1 = pd.read_csv(\"lucknow_hosuing_prices.csv\")\n",
        "df1.head()"
      ]
    },
    {
      "cell_type": "code",
      "execution_count": 7,
      "metadata": {
        "trusted": true
      },
      "outputs": [
        {
          "data": {
            "text/html": [
              "<div>\n",
              "<style scoped>\n",
              "    .dataframe tbody tr th:only-of-type {\n",
              "        vertical-align: middle;\n",
              "    }\n",
              "\n",
              "    .dataframe tbody tr th {\n",
              "        vertical-align: top;\n",
              "    }\n",
              "\n",
              "    .dataframe thead th {\n",
              "        text-align: right;\n",
              "    }\n",
              "</style>\n",
              "<table border=\"1\" class=\"dataframe\">\n",
              "  <thead>\n",
              "    <tr style=\"text-align: right;\">\n",
              "      <th></th>\n",
              "      <th>bhk</th>\n",
              "      <th>type</th>\n",
              "      <th>area_sq_ft</th>\n",
              "      <th>location</th>\n",
              "      <th>price_lakh</th>\n",
              "      <th>carpet_area</th>\n",
              "      <th>status</th>\n",
              "      <th>bathrooms</th>\n",
              "    </tr>\n",
              "  </thead>\n",
              "  <tbody>\n",
              "    <tr>\n",
              "      <th>0</th>\n",
              "      <td>3</td>\n",
              "      <td>Independent</td>\n",
              "      <td>1100</td>\n",
              "      <td>Rajajipuram</td>\n",
              "      <td>33.0</td>\n",
              "      <td>720</td>\n",
              "      <td>StatusReady</td>\n",
              "      <td>2</td>\n",
              "    </tr>\n",
              "    <tr>\n",
              "      <th>1</th>\n",
              "      <td>3</td>\n",
              "      <td>Independent</td>\n",
              "      <td>1200</td>\n",
              "      <td>Sarojini Nagar</td>\n",
              "      <td>27.0</td>\n",
              "      <td>NaN</td>\n",
              "      <td>StatusUnder</td>\n",
              "      <td>2</td>\n",
              "    </tr>\n",
              "    <tr>\n",
              "      <th>2</th>\n",
              "      <td>2</td>\n",
              "      <td>Independent</td>\n",
              "      <td>1250</td>\n",
              "      <td>Jankipuram</td>\n",
              "      <td>50.0</td>\n",
              "      <td>1000</td>\n",
              "      <td>StatusReady</td>\n",
              "      <td>2</td>\n",
              "    </tr>\n",
              "    <tr>\n",
              "      <th>3</th>\n",
              "      <td>3</td>\n",
              "      <td>Independent</td>\n",
              "      <td>1320</td>\n",
              "      <td>Omaxe City</td>\n",
              "      <td>42.0</td>\n",
              "      <td>900</td>\n",
              "      <td>StatusReady</td>\n",
              "      <td>3</td>\n",
              "    </tr>\n",
              "    <tr>\n",
              "      <th>4</th>\n",
              "      <td>3</td>\n",
              "      <td>Independent</td>\n",
              "      <td>900</td>\n",
              "      <td>Vrindavan Yojna</td>\n",
              "      <td>48.0</td>\n",
              "      <td></td>\n",
              "      <td>StatusReady</td>\n",
              "      <td>2</td>\n",
              "    </tr>\n",
              "  </tbody>\n",
              "</table>\n",
              "</div>"
            ],
            "text/plain": [
              "   bhk         type  area_sq_ft         location  price_lakh carpet_area  \\\n",
              "0    3  Independent        1100      Rajajipuram        33.0         720   \n",
              "1    3  Independent        1200   Sarojini Nagar        27.0         NaN   \n",
              "2    2  Independent        1250       Jankipuram        50.0        1000   \n",
              "3    3  Independent        1320       Omaxe City        42.0         900   \n",
              "4    3  Independent         900  Vrindavan Yojna        48.0               \n",
              "\n",
              "        status  bathrooms  \n",
              "0  StatusReady          2  \n",
              "1  StatusUnder          2  \n",
              "2  StatusReady          2  \n",
              "3  StatusReady          3  \n",
              "4  StatusReady          2  "
            ]
          },
          "execution_count": 7,
          "metadata": {},
          "output_type": "execute_result"
        }
      ],
      "source": [
        "\n",
        "df1 = pd.read_csv(\"lucknow_hosuing_prices.csv\")\n",
        "df1.head()"
      ]
    },
    {
      "cell_type": "code",
      "execution_count": 8,
      "metadata": {
        "trusted": true
      },
      "outputs": [
        {
          "data": {
            "text/plain": [
              "(471, 8)"
            ]
          },
          "execution_count": 8,
          "metadata": {},
          "output_type": "execute_result"
        }
      ],
      "source": [
        "df1.shape\n"
      ]
    },
    {
      "cell_type": "code",
      "execution_count": 9,
      "metadata": {
        "trusted": true
      },
      "outputs": [
        {
          "data": {
            "text/plain": [
              "type\n",
              "Independent    276\n",
              "Studio           1\n",
              "Villa          194\n",
              "Name: type, dtype: int64"
            ]
          },
          "execution_count": 9,
          "metadata": {},
          "output_type": "execute_result"
        }
      ],
      "source": [
        "df1.groupby('type')['type'].agg('count')"
      ]
    },
    {
      "cell_type": "code",
      "execution_count": 10,
      "metadata": {
        "trusted": true
      },
      "outputs": [
        {
          "data": {
            "text/html": [
              "<div>\n",
              "<style scoped>\n",
              "    .dataframe tbody tr th:only-of-type {\n",
              "        vertical-align: middle;\n",
              "    }\n",
              "\n",
              "    .dataframe tbody tr th {\n",
              "        vertical-align: top;\n",
              "    }\n",
              "\n",
              "    .dataframe thead th {\n",
              "        text-align: right;\n",
              "    }\n",
              "</style>\n",
              "<table border=\"1\" class=\"dataframe\">\n",
              "  <thead>\n",
              "    <tr style=\"text-align: right;\">\n",
              "      <th></th>\n",
              "      <th>bhk</th>\n",
              "      <th>area_sq_ft</th>\n",
              "      <th>location</th>\n",
              "      <th>price_lakh</th>\n",
              "      <th>bathrooms</th>\n",
              "    </tr>\n",
              "  </thead>\n",
              "  <tbody>\n",
              "    <tr>\n",
              "      <th>0</th>\n",
              "      <td>3</td>\n",
              "      <td>1100</td>\n",
              "      <td>Rajajipuram</td>\n",
              "      <td>33.0</td>\n",
              "      <td>2</td>\n",
              "    </tr>\n",
              "    <tr>\n",
              "      <th>1</th>\n",
              "      <td>3</td>\n",
              "      <td>1200</td>\n",
              "      <td>Sarojini Nagar</td>\n",
              "      <td>27.0</td>\n",
              "      <td>2</td>\n",
              "    </tr>\n",
              "    <tr>\n",
              "      <th>2</th>\n",
              "      <td>2</td>\n",
              "      <td>1250</td>\n",
              "      <td>Jankipuram</td>\n",
              "      <td>50.0</td>\n",
              "      <td>2</td>\n",
              "    </tr>\n",
              "    <tr>\n",
              "      <th>3</th>\n",
              "      <td>3</td>\n",
              "      <td>1320</td>\n",
              "      <td>Omaxe City</td>\n",
              "      <td>42.0</td>\n",
              "      <td>3</td>\n",
              "    </tr>\n",
              "    <tr>\n",
              "      <th>4</th>\n",
              "      <td>3</td>\n",
              "      <td>900</td>\n",
              "      <td>Vrindavan Yojna</td>\n",
              "      <td>48.0</td>\n",
              "      <td>2</td>\n",
              "    </tr>\n",
              "  </tbody>\n",
              "</table>\n",
              "</div>"
            ],
            "text/plain": [
              "   bhk  area_sq_ft         location  price_lakh  bathrooms\n",
              "0    3        1100      Rajajipuram        33.0          2\n",
              "1    3        1200   Sarojini Nagar        27.0          2\n",
              "2    2        1250       Jankipuram        50.0          2\n",
              "3    3        1320       Omaxe City        42.0          3\n",
              "4    3         900  Vrindavan Yojna        48.0          2"
            ]
          },
          "execution_count": 10,
          "metadata": {},
          "output_type": "execute_result"
        }
      ],
      "source": [
        "df2 = df1.drop(['type', 'status','carpet_area'],axis='columns')\n",
        "df2.head()"
      ]
    },
    {
      "cell_type": "code",
      "execution_count": 11,
      "metadata": {
        "trusted": true
      },
      "outputs": [
        {
          "data": {
            "text/plain": [
              "bhk           0\n",
              "area_sq_ft    0\n",
              "location      0\n",
              "price_lakh    0\n",
              "bathrooms     0\n",
              "dtype: int64"
            ]
          },
          "execution_count": 11,
          "metadata": {},
          "output_type": "execute_result"
        }
      ],
      "source": [
        "df2.isnull().sum()"
      ]
    },
    {
      "cell_type": "code",
      "execution_count": 12,
      "metadata": {
        "trusted": true
      },
      "outputs": [
        {
          "data": {
            "text/plain": [
              "(471, 5)"
            ]
          },
          "execution_count": 12,
          "metadata": {},
          "output_type": "execute_result"
        }
      ],
      "source": [
        "df2.shape"
      ]
    },
    {
      "cell_type": "code",
      "execution_count": 13,
      "metadata": {
        "trusted": true
      },
      "outputs": [
        {
          "data": {
            "text/plain": [
              "(471, 5)"
            ]
          },
          "execution_count": 13,
          "metadata": {},
          "output_type": "execute_result"
        }
      ],
      "source": [
        "df2.shape"
      ]
    },
    {
      "cell_type": "code",
      "execution_count": 14,
      "metadata": {
        "trusted": true
      },
      "outputs": [
        {
          "data": {
            "text/plain": [
              "array([3, 2, 1, 4], dtype=int64)"
            ]
          },
          "execution_count": 14,
          "metadata": {},
          "output_type": "execute_result"
        }
      ],
      "source": [
        "df2['bhk'].unique()"
      ]
    },
    {
      "cell_type": "code",
      "execution_count": 15,
      "metadata": {
        "trusted": true
      },
      "outputs": [
        {
          "data": {
            "text/plain": [
              "array([1100, 1200, 1250, 1320,  900, 1350, 1219,  836, 1030,  850,  955,\n",
              "       1000,  720, 1050, 1450, 1500,  800,  950,  650,  600, 1180, 1535,\n",
              "       1150, 1560, 1265,  903, 1002, 1261,  901, 1260, 1001, 1201, 1005,\n",
              "       1264,  750, 1300, 1125, 1035,  620, 1020,  700, 1010,  875, 1550,\n",
              "        622, 1285, 1400,  866, 1006,  966, 1003, 1478,  440,  995, 1165,\n",
              "       1004,  450,  530,  804, 1255,  960,  645,  925, 1032,  972,  930,\n",
              "        402,  860, 1133, 1295, 1496, 1170, 1039, 1617, 1216,  350,  520],\n",
              "      dtype=int64)"
            ]
          },
          "execution_count": 15,
          "metadata": {},
          "output_type": "execute_result"
        }
      ],
      "source": [
        "df2.area_sq_ft.unique()"
      ]
    },
    {
      "cell_type": "code",
      "execution_count": 16,
      "metadata": {
        "trusted": true
      },
      "outputs": [],
      "source": [
        "def is_float(x):\n",
        "    try:\n",
        "        float(x)\n",
        "    except:\n",
        "        return False\n",
        "    return True"
      ]
    },
    {
      "cell_type": "code",
      "execution_count": 17,
      "metadata": {
        "trusted": true
      },
      "outputs": [
        {
          "data": {
            "text/html": [
              "<div>\n",
              "<style scoped>\n",
              "    .dataframe tbody tr th:only-of-type {\n",
              "        vertical-align: middle;\n",
              "    }\n",
              "\n",
              "    .dataframe tbody tr th {\n",
              "        vertical-align: top;\n",
              "    }\n",
              "\n",
              "    .dataframe thead th {\n",
              "        text-align: right;\n",
              "    }\n",
              "</style>\n",
              "<table border=\"1\" class=\"dataframe\">\n",
              "  <thead>\n",
              "    <tr style=\"text-align: right;\">\n",
              "      <th></th>\n",
              "      <th>bhk</th>\n",
              "      <th>area_sq_ft</th>\n",
              "      <th>location</th>\n",
              "      <th>price_lakh</th>\n",
              "      <th>bathrooms</th>\n",
              "    </tr>\n",
              "  </thead>\n",
              "  <tbody>\n",
              "  </tbody>\n",
              "</table>\n",
              "</div>"
            ],
            "text/plain": [
              "Empty DataFrame\n",
              "Columns: [bhk, area_sq_ft, location, price_lakh, bathrooms]\n",
              "Index: []"
            ]
          },
          "execution_count": 17,
          "metadata": {},
          "output_type": "execute_result"
        }
      ],
      "source": [
        "df2[~df2['price_lakh'].apply(is_float)].head(10)"
      ]
    },
    {
      "cell_type": "code",
      "execution_count": 18,
      "metadata": {
        "trusted": true
      },
      "outputs": [
        {
          "data": {
            "text/plain": [
              "bhk                       3\n",
              "area_sq_ft             1350\n",
              "location      Faizabad Road\n",
              "price_lakh             45.0\n",
              "bathrooms                 2\n",
              "Name: 30, dtype: object"
            ]
          },
          "execution_count": 18,
          "metadata": {},
          "output_type": "execute_result"
        }
      ],
      "source": [
        "df2.loc[30]"
      ]
    },
    {
      "cell_type": "code",
      "execution_count": 19,
      "metadata": {
        "trusted": true
      },
      "outputs": [
        {
          "data": {
            "text/html": [
              "<div>\n",
              "<style scoped>\n",
              "    .dataframe tbody tr th:only-of-type {\n",
              "        vertical-align: middle;\n",
              "    }\n",
              "\n",
              "    .dataframe tbody tr th {\n",
              "        vertical-align: top;\n",
              "    }\n",
              "\n",
              "    .dataframe thead th {\n",
              "        text-align: right;\n",
              "    }\n",
              "</style>\n",
              "<table border=\"1\" class=\"dataframe\">\n",
              "  <thead>\n",
              "    <tr style=\"text-align: right;\">\n",
              "      <th></th>\n",
              "      <th>bhk</th>\n",
              "      <th>area_sq_ft</th>\n",
              "      <th>location</th>\n",
              "      <th>price_lakh</th>\n",
              "      <th>bathrooms</th>\n",
              "    </tr>\n",
              "  </thead>\n",
              "  <tbody>\n",
              "    <tr>\n",
              "      <th>0</th>\n",
              "      <td>3</td>\n",
              "      <td>1100</td>\n",
              "      <td>Rajajipuram</td>\n",
              "      <td>33.0</td>\n",
              "      <td>2</td>\n",
              "    </tr>\n",
              "    <tr>\n",
              "      <th>1</th>\n",
              "      <td>3</td>\n",
              "      <td>1200</td>\n",
              "      <td>Sarojini Nagar</td>\n",
              "      <td>27.0</td>\n",
              "      <td>2</td>\n",
              "    </tr>\n",
              "    <tr>\n",
              "      <th>2</th>\n",
              "      <td>2</td>\n",
              "      <td>1250</td>\n",
              "      <td>Jankipuram</td>\n",
              "      <td>50.0</td>\n",
              "      <td>2</td>\n",
              "    </tr>\n",
              "  </tbody>\n",
              "</table>\n",
              "</div>"
            ],
            "text/plain": [
              "   bhk  area_sq_ft        location  price_lakh  bathrooms\n",
              "0    3        1100     Rajajipuram        33.0          2\n",
              "1    3        1200  Sarojini Nagar        27.0          2\n",
              "2    2        1250      Jankipuram        50.0          2"
            ]
          },
          "execution_count": 19,
          "metadata": {},
          "output_type": "execute_result"
        }
      ],
      "source": [
        "df2.head(3)"
      ]
    },
    {
      "cell_type": "code",
      "execution_count": 20,
      "metadata": {
        "trusted": true
      },
      "outputs": [
        {
          "data": {
            "text/html": [
              "<div>\n",
              "<style scoped>\n",
              "    .dataframe tbody tr th:only-of-type {\n",
              "        vertical-align: middle;\n",
              "    }\n",
              "\n",
              "    .dataframe tbody tr th {\n",
              "        vertical-align: top;\n",
              "    }\n",
              "\n",
              "    .dataframe thead th {\n",
              "        text-align: right;\n",
              "    }\n",
              "</style>\n",
              "<table border=\"1\" class=\"dataframe\">\n",
              "  <thead>\n",
              "    <tr style=\"text-align: right;\">\n",
              "      <th></th>\n",
              "      <th>bhk</th>\n",
              "      <th>area_sq_ft</th>\n",
              "      <th>location</th>\n",
              "      <th>price_lakh</th>\n",
              "      <th>bathrooms</th>\n",
              "      <th>price_per_sqft</th>\n",
              "    </tr>\n",
              "  </thead>\n",
              "  <tbody>\n",
              "    <tr>\n",
              "      <th>0</th>\n",
              "      <td>3</td>\n",
              "      <td>1100</td>\n",
              "      <td>Rajajipuram</td>\n",
              "      <td>33.0</td>\n",
              "      <td>2</td>\n",
              "      <td>3000.000000</td>\n",
              "    </tr>\n",
              "    <tr>\n",
              "      <th>1</th>\n",
              "      <td>3</td>\n",
              "      <td>1200</td>\n",
              "      <td>Sarojini Nagar</td>\n",
              "      <td>27.0</td>\n",
              "      <td>2</td>\n",
              "      <td>2250.000000</td>\n",
              "    </tr>\n",
              "    <tr>\n",
              "      <th>2</th>\n",
              "      <td>2</td>\n",
              "      <td>1250</td>\n",
              "      <td>Jankipuram</td>\n",
              "      <td>50.0</td>\n",
              "      <td>2</td>\n",
              "      <td>4000.000000</td>\n",
              "    </tr>\n",
              "    <tr>\n",
              "      <th>3</th>\n",
              "      <td>3</td>\n",
              "      <td>1320</td>\n",
              "      <td>Omaxe City</td>\n",
              "      <td>42.0</td>\n",
              "      <td>3</td>\n",
              "      <td>3181.818182</td>\n",
              "    </tr>\n",
              "    <tr>\n",
              "      <th>4</th>\n",
              "      <td>3</td>\n",
              "      <td>900</td>\n",
              "      <td>Vrindavan Yojna</td>\n",
              "      <td>48.0</td>\n",
              "      <td>2</td>\n",
              "      <td>5333.333333</td>\n",
              "    </tr>\n",
              "  </tbody>\n",
              "</table>\n",
              "</div>"
            ],
            "text/plain": [
              "   bhk  area_sq_ft         location  price_lakh  bathrooms  price_per_sqft\n",
              "0    3        1100      Rajajipuram        33.0          2     3000.000000\n",
              "1    3        1200   Sarojini Nagar        27.0          2     2250.000000\n",
              "2    2        1250       Jankipuram        50.0          2     4000.000000\n",
              "3    3        1320       Omaxe City        42.0          3     3181.818182\n",
              "4    3         900  Vrindavan Yojna        48.0          2     5333.333333"
            ]
          },
          "execution_count": 20,
          "metadata": {},
          "output_type": "execute_result"
        }
      ],
      "source": [
        "df3 = df2.copy()\n",
        "df3['price_per_sqft'] = df3['price_lakh']*100000/df3['area_sq_ft']\n",
        "df3.head()\n"
      ]
    },
    {
      "cell_type": "code",
      "execution_count": 21,
      "metadata": {
        "trusted": true
      },
      "outputs": [
        {
          "data": {
            "text/plain": [
              "107"
            ]
          },
          "execution_count": 21,
          "metadata": {},
          "output_type": "execute_result"
        }
      ],
      "source": [
        "len(df3.location.unique())"
      ]
    },
    {
      "cell_type": "code",
      "execution_count": 22,
      "metadata": {
        "trusted": true
      },
      "outputs": [
        {
          "data": {
            "text/plain": [
              "location\n",
              "Aashiyana                                 1\n",
              "Alambagh                                  6\n",
              "Amity University Road                    23\n",
              "Amity University Road University Road     1\n",
              "Anora Kala                                6\n",
              "                                         ..\n",
              "Tiwariganj                                2\n",
              "Uattardhona                              15\n",
              "Vijay Nagar                               1\n",
              "Vikas Nagar                               1\n",
              "Vrindavan Yojna                           4\n",
              "Name: location, Length: 107, dtype: int64"
            ]
          },
          "execution_count": 22,
          "metadata": {},
          "output_type": "execute_result"
        }
      ],
      "source": [
        "df3.location=df3.location.apply(lambda x:x.strip())\n",
        "\n",
        "location_stats=df3.groupby('location')['location'].agg('count')\n",
        "location_stats"
      ]
    },
    {
      "cell_type": "code",
      "execution_count": 23,
      "metadata": {
        "trusted": true
      },
      "outputs": [
        {
          "data": {
            "text/plain": [
              "location\n",
              "Aashiyana                                 1\n",
              "Alambagh                                  6\n",
              "Amity University Road                    23\n",
              "Amity University Road University Road     1\n",
              "Anora Kala                                6\n",
              "                                         ..\n",
              "Tiwariganj                                2\n",
              "Uattardhona                              15\n",
              "Vijay Nagar                               1\n",
              "Vikas Nagar                               1\n",
              "Vrindavan Yojna                           4\n",
              "Name: location, Length: 107, dtype: int64"
            ]
          },
          "execution_count": 23,
          "metadata": {},
          "output_type": "execute_result"
        }
      ],
      "source": [
        "df3.location=df3.location.apply(lambda x:x.strip())\n",
        "\n",
        "location_stats=df3.groupby('location')['location'].agg('count')\n",
        "location_stats"
      ]
    },
    {
      "cell_type": "code",
      "execution_count": 24,
      "metadata": {
        "trusted": true
      },
      "outputs": [
        {
          "data": {
            "text/plain": [
              "location\n",
              "Aashiyana                                 1\n",
              "Alambagh                                  6\n",
              "Amity University Road                    23\n",
              "Amity University Road University Road     1\n",
              "Anora Kala                                6\n",
              "                                         ..\n",
              "Tiwariganj                                2\n",
              "Uattardhona                              15\n",
              "Vijay Nagar                               1\n",
              "Vikas Nagar                               1\n",
              "Vrindavan Yojna                           4\n",
              "Name: location, Length: 107, dtype: int64"
            ]
          },
          "execution_count": 24,
          "metadata": {},
          "output_type": "execute_result"
        }
      ],
      "source": [
        "df3.location=df3.location.apply(lambda x:x.strip())\n",
        "\n",
        "location_stats=df3.groupby('location')['location'].agg('count')\n",
        "location_stats"
      ]
    },
    {
      "cell_type": "code",
      "execution_count": 25,
      "metadata": {
        "trusted": true
      },
      "outputs": [
        {
          "data": {
            "text/plain": [
              "location\n",
              "Aashiyana                                 1\n",
              "Alambagh                                  6\n",
              "Amity University Road                    23\n",
              "Amity University Road University Road     1\n",
              "Anora Kala                                6\n",
              "                                         ..\n",
              "Tiwariganj                                2\n",
              "Uattardhona                              15\n",
              "Vijay Nagar                               1\n",
              "Vikas Nagar                               1\n",
              "Vrindavan Yojna                           4\n",
              "Name: location, Length: 107, dtype: int64"
            ]
          },
          "execution_count": 25,
          "metadata": {},
          "output_type": "execute_result"
        }
      ],
      "source": [
        "df3.location=df3.location.apply(lambda x:x.strip())\n",
        "\n",
        "location_stats=df3.groupby('location')['location'].agg('count')\n",
        "location_stats"
      ]
    },
    {
      "cell_type": "code",
      "execution_count": 26,
      "metadata": {
        "trusted": true
      },
      "outputs": [
        {
          "data": {
            "text/plain": [
              "97"
            ]
          },
          "execution_count": 26,
          "metadata": {},
          "output_type": "execute_result"
        }
      ],
      "source": [
        "len(location_stats[location_stats<=10])"
      ]
    },
    {
      "cell_type": "code",
      "execution_count": 27,
      "metadata": {
        "trusted": true
      },
      "outputs": [
        {
          "data": {
            "text/plain": [
              "location\n",
              "Aashiyana                                1\n",
              "Alambagh                                 6\n",
              "Amity University Road University Road    1\n",
              "Anora Kala                               6\n",
              "Aurangabad                               1\n",
              "                                        ..\n",
              "Takrohi                                  2\n",
              "Tiwariganj                               2\n",
              "Vijay Nagar                              1\n",
              "Vikas Nagar                              1\n",
              "Vrindavan Yojna                          4\n",
              "Name: location, Length: 97, dtype: int64"
            ]
          },
          "execution_count": 27,
          "metadata": {},
          "output_type": "execute_result"
        }
      ],
      "source": [
        "location_stats_less_than_10 = location_stats[location_stats<=10]\n",
        "location_stats_less_than_10"
      ]
    },
    {
      "cell_type": "code",
      "execution_count": 28,
      "metadata": {
        "trusted": true
      },
      "outputs": [
        {
          "data": {
            "text/plain": [
              "107"
            ]
          },
          "execution_count": 28,
          "metadata": {},
          "output_type": "execute_result"
        }
      ],
      "source": [
        "len(df3.location.unique())"
      ]
    },
    {
      "cell_type": "code",
      "execution_count": 29,
      "metadata": {
        "trusted": true
      },
      "outputs": [
        {
          "data": {
            "text/html": [
              "<div>\n",
              "<style scoped>\n",
              "    .dataframe tbody tr th:only-of-type {\n",
              "        vertical-align: middle;\n",
              "    }\n",
              "\n",
              "    .dataframe tbody tr th {\n",
              "        vertical-align: top;\n",
              "    }\n",
              "\n",
              "    .dataframe thead th {\n",
              "        text-align: right;\n",
              "    }\n",
              "</style>\n",
              "<table border=\"1\" class=\"dataframe\">\n",
              "  <thead>\n",
              "    <tr style=\"text-align: right;\">\n",
              "      <th></th>\n",
              "      <th>bhk</th>\n",
              "      <th>area_sq_ft</th>\n",
              "      <th>location</th>\n",
              "      <th>price_lakh</th>\n",
              "      <th>bathrooms</th>\n",
              "      <th>price_per_sqft</th>\n",
              "    </tr>\n",
              "  </thead>\n",
              "  <tbody>\n",
              "    <tr>\n",
              "      <th>0</th>\n",
              "      <td>3</td>\n",
              "      <td>1100</td>\n",
              "      <td>Rajajipuram</td>\n",
              "      <td>33.0</td>\n",
              "      <td>2</td>\n",
              "      <td>3000.000000</td>\n",
              "    </tr>\n",
              "    <tr>\n",
              "      <th>1</th>\n",
              "      <td>3</td>\n",
              "      <td>1200</td>\n",
              "      <td>Sarojini Nagar</td>\n",
              "      <td>27.0</td>\n",
              "      <td>2</td>\n",
              "      <td>2250.000000</td>\n",
              "    </tr>\n",
              "    <tr>\n",
              "      <th>2</th>\n",
              "      <td>2</td>\n",
              "      <td>1250</td>\n",
              "      <td>Jankipuram</td>\n",
              "      <td>50.0</td>\n",
              "      <td>2</td>\n",
              "      <td>4000.000000</td>\n",
              "    </tr>\n",
              "    <tr>\n",
              "      <th>3</th>\n",
              "      <td>3</td>\n",
              "      <td>1320</td>\n",
              "      <td>Omaxe City</td>\n",
              "      <td>42.0</td>\n",
              "      <td>3</td>\n",
              "      <td>3181.818182</td>\n",
              "    </tr>\n",
              "    <tr>\n",
              "      <th>4</th>\n",
              "      <td>3</td>\n",
              "      <td>900</td>\n",
              "      <td>Vrindavan Yojna</td>\n",
              "      <td>48.0</td>\n",
              "      <td>2</td>\n",
              "      <td>5333.333333</td>\n",
              "    </tr>\n",
              "    <tr>\n",
              "      <th>...</th>\n",
              "      <td>...</td>\n",
              "      <td>...</td>\n",
              "      <td>...</td>\n",
              "      <td>...</td>\n",
              "      <td>...</td>\n",
              "      <td>...</td>\n",
              "    </tr>\n",
              "    <tr>\n",
              "      <th>95</th>\n",
              "      <td>2</td>\n",
              "      <td>1250</td>\n",
              "      <td>Jankipuram</td>\n",
              "      <td>48.0</td>\n",
              "      <td>2</td>\n",
              "      <td>3840.000000</td>\n",
              "    </tr>\n",
              "    <tr>\n",
              "      <th>96</th>\n",
              "      <td>2</td>\n",
              "      <td>850</td>\n",
              "      <td>Bharavara</td>\n",
              "      <td>32.0</td>\n",
              "      <td>2</td>\n",
              "      <td>3764.705882</td>\n",
              "    </tr>\n",
              "    <tr>\n",
              "      <th>97</th>\n",
              "      <td>2</td>\n",
              "      <td>1300</td>\n",
              "      <td>Indraprastha</td>\n",
              "      <td>44.0</td>\n",
              "      <td>2</td>\n",
              "      <td>3384.615385</td>\n",
              "    </tr>\n",
              "    <tr>\n",
              "      <th>98</th>\n",
              "      <td>2</td>\n",
              "      <td>1200</td>\n",
              "      <td>Anora Kala</td>\n",
              "      <td>49.5</td>\n",
              "      <td>2</td>\n",
              "      <td>4125.000000</td>\n",
              "    </tr>\n",
              "    <tr>\n",
              "      <th>99</th>\n",
              "      <td>2</td>\n",
              "      <td>1250</td>\n",
              "      <td>Anora Kala</td>\n",
              "      <td>49.5</td>\n",
              "      <td>2</td>\n",
              "      <td>3960.000000</td>\n",
              "    </tr>\n",
              "  </tbody>\n",
              "</table>\n",
              "<p>100 rows × 6 columns</p>\n",
              "</div>"
            ],
            "text/plain": [
              "    bhk  area_sq_ft         location  price_lakh  bathrooms  price_per_sqft\n",
              "0     3        1100      Rajajipuram        33.0          2     3000.000000\n",
              "1     3        1200   Sarojini Nagar        27.0          2     2250.000000\n",
              "2     2        1250       Jankipuram        50.0          2     4000.000000\n",
              "3     3        1320       Omaxe City        42.0          3     3181.818182\n",
              "4     3         900  Vrindavan Yojna        48.0          2     5333.333333\n",
              "..  ...         ...              ...         ...        ...             ...\n",
              "95    2        1250       Jankipuram        48.0          2     3840.000000\n",
              "96    2         850        Bharavara        32.0          2     3764.705882\n",
              "97    2        1300     Indraprastha        44.0          2     3384.615385\n",
              "98    2        1200       Anora Kala        49.5          2     4125.000000\n",
              "99    2        1250       Anora Kala        49.5          2     3960.000000\n",
              "\n",
              "[100 rows x 6 columns]"
            ]
          },
          "execution_count": 29,
          "metadata": {},
          "output_type": "execute_result"
        }
      ],
      "source": [
        "df3.head(100)"
      ]
    },
    {
      "cell_type": "code",
      "execution_count": 30,
      "metadata": {
        "trusted": true
      },
      "outputs": [
        {
          "data": {
            "text/plain": [
              "location\n",
              "Aashiyana                                 1\n",
              "Alambagh                                  6\n",
              "Amity University Road                    23\n",
              "Amity University Road University Road     1\n",
              "Anora Kala                                6\n",
              "                                         ..\n",
              "Tiwariganj                                2\n",
              "Uattardhona                              15\n",
              "Vijay Nagar                               1\n",
              "Vikas Nagar                               1\n",
              "Vrindavan Yojna                           4\n",
              "Name: location, Length: 107, dtype: int64"
            ]
          },
          "execution_count": 30,
          "metadata": {},
          "output_type": "execute_result"
        }
      ],
      "source": [
        "df3.location=df3.location.apply(lambda x:x.strip())\n",
        "\n",
        "location_stats=df3.groupby('location')['location'].agg('count')\n",
        "location_stats"
      ]
    },
    {
      "cell_type": "code",
      "execution_count": 31,
      "metadata": {
        "trusted": true
      },
      "outputs": [
        {
          "data": {
            "text/html": [
              "<div>\n",
              "<style scoped>\n",
              "    .dataframe tbody tr th:only-of-type {\n",
              "        vertical-align: middle;\n",
              "    }\n",
              "\n",
              "    .dataframe tbody tr th {\n",
              "        vertical-align: top;\n",
              "    }\n",
              "\n",
              "    .dataframe thead th {\n",
              "        text-align: right;\n",
              "    }\n",
              "</style>\n",
              "<table border=\"1\" class=\"dataframe\">\n",
              "  <thead>\n",
              "    <tr style=\"text-align: right;\">\n",
              "      <th></th>\n",
              "      <th>bhk</th>\n",
              "      <th>area_sq_ft</th>\n",
              "      <th>location</th>\n",
              "      <th>price_lakh</th>\n",
              "      <th>bathrooms</th>\n",
              "      <th>price_per_sqft</th>\n",
              "    </tr>\n",
              "  </thead>\n",
              "  <tbody>\n",
              "    <tr>\n",
              "      <th>0</th>\n",
              "      <td>3</td>\n",
              "      <td>1100</td>\n",
              "      <td>Rajajipuram</td>\n",
              "      <td>33.0</td>\n",
              "      <td>2</td>\n",
              "      <td>3000.000000</td>\n",
              "    </tr>\n",
              "    <tr>\n",
              "      <th>1</th>\n",
              "      <td>3</td>\n",
              "      <td>1200</td>\n",
              "      <td>Sarojini Nagar</td>\n",
              "      <td>27.0</td>\n",
              "      <td>2</td>\n",
              "      <td>2250.000000</td>\n",
              "    </tr>\n",
              "    <tr>\n",
              "      <th>2</th>\n",
              "      <td>2</td>\n",
              "      <td>1250</td>\n",
              "      <td>Jankipuram</td>\n",
              "      <td>50.0</td>\n",
              "      <td>2</td>\n",
              "      <td>4000.000000</td>\n",
              "    </tr>\n",
              "    <tr>\n",
              "      <th>3</th>\n",
              "      <td>3</td>\n",
              "      <td>1320</td>\n",
              "      <td>Omaxe City</td>\n",
              "      <td>42.0</td>\n",
              "      <td>3</td>\n",
              "      <td>3181.818182</td>\n",
              "    </tr>\n",
              "  </tbody>\n",
              "</table>\n",
              "</div>"
            ],
            "text/plain": [
              "   bhk  area_sq_ft        location  price_lakh  bathrooms  price_per_sqft\n",
              "0    3        1100     Rajajipuram        33.0          2     3000.000000\n",
              "1    3        1200  Sarojini Nagar        27.0          2     2250.000000\n",
              "2    2        1250      Jankipuram        50.0          2     4000.000000\n",
              "3    3        1320      Omaxe City        42.0          3     3181.818182"
            ]
          },
          "execution_count": 31,
          "metadata": {},
          "output_type": "execute_result"
        }
      ],
      "source": [
        "df3.head(4)"
      ]
    },
    {
      "cell_type": "code",
      "execution_count": 32,
      "metadata": {
        "trusted": true
      },
      "outputs": [
        {
          "data": {
            "text/html": [
              "<div>\n",
              "<style scoped>\n",
              "    .dataframe tbody tr th:only-of-type {\n",
              "        vertical-align: middle;\n",
              "    }\n",
              "\n",
              "    .dataframe tbody tr th {\n",
              "        vertical-align: top;\n",
              "    }\n",
              "\n",
              "    .dataframe thead th {\n",
              "        text-align: right;\n",
              "    }\n",
              "</style>\n",
              "<table border=\"1\" class=\"dataframe\">\n",
              "  <thead>\n",
              "    <tr style=\"text-align: right;\">\n",
              "      <th></th>\n",
              "      <th>bhk</th>\n",
              "      <th>area_sq_ft</th>\n",
              "      <th>location</th>\n",
              "      <th>price_lakh</th>\n",
              "      <th>bathrooms</th>\n",
              "      <th>price_per_sqft</th>\n",
              "    </tr>\n",
              "  </thead>\n",
              "  <tbody>\n",
              "    <tr>\n",
              "      <th>0</th>\n",
              "      <td>3</td>\n",
              "      <td>1100</td>\n",
              "      <td>Rajajipuram</td>\n",
              "      <td>33.0</td>\n",
              "      <td>2</td>\n",
              "      <td>3000.000000</td>\n",
              "    </tr>\n",
              "    <tr>\n",
              "      <th>1</th>\n",
              "      <td>3</td>\n",
              "      <td>1200</td>\n",
              "      <td>Sarojini Nagar</td>\n",
              "      <td>27.0</td>\n",
              "      <td>2</td>\n",
              "      <td>2250.000000</td>\n",
              "    </tr>\n",
              "    <tr>\n",
              "      <th>2</th>\n",
              "      <td>2</td>\n",
              "      <td>1250</td>\n",
              "      <td>Jankipuram</td>\n",
              "      <td>50.0</td>\n",
              "      <td>2</td>\n",
              "      <td>4000.000000</td>\n",
              "    </tr>\n",
              "    <tr>\n",
              "      <th>3</th>\n",
              "      <td>3</td>\n",
              "      <td>1320</td>\n",
              "      <td>Omaxe City</td>\n",
              "      <td>42.0</td>\n",
              "      <td>3</td>\n",
              "      <td>3181.818182</td>\n",
              "    </tr>\n",
              "    <tr>\n",
              "      <th>4</th>\n",
              "      <td>3</td>\n",
              "      <td>900</td>\n",
              "      <td>Vrindavan Yojna</td>\n",
              "      <td>48.0</td>\n",
              "      <td>2</td>\n",
              "      <td>5333.333333</td>\n",
              "    </tr>\n",
              "  </tbody>\n",
              "</table>\n",
              "</div>"
            ],
            "text/plain": [
              "   bhk  area_sq_ft         location  price_lakh  bathrooms  price_per_sqft\n",
              "0    3        1100      Rajajipuram        33.0          2     3000.000000\n",
              "1    3        1200   Sarojini Nagar        27.0          2     2250.000000\n",
              "2    2        1250       Jankipuram        50.0          2     4000.000000\n",
              "3    3        1320       Omaxe City        42.0          3     3181.818182\n",
              "4    3         900  Vrindavan Yojna        48.0          2     5333.333333"
            ]
          },
          "execution_count": 32,
          "metadata": {},
          "output_type": "execute_result"
        }
      ],
      "source": [
        "df4 = df2.copy()\n",
        "df4['price_per_sqft'] = df4['price_lakh']*100000/df4['area_sq_ft']\n",
        "df4.head()"
      ]
    },
    {
      "cell_type": "code",
      "execution_count": 33,
      "metadata": {
        "trusted": true
      },
      "outputs": [
        {
          "data": {
            "text/html": [
              "<div>\n",
              "<style scoped>\n",
              "    .dataframe tbody tr th:only-of-type {\n",
              "        vertical-align: middle;\n",
              "    }\n",
              "\n",
              "    .dataframe tbody tr th {\n",
              "        vertical-align: top;\n",
              "    }\n",
              "\n",
              "    .dataframe thead th {\n",
              "        text-align: right;\n",
              "    }\n",
              "</style>\n",
              "<table border=\"1\" class=\"dataframe\">\n",
              "  <thead>\n",
              "    <tr style=\"text-align: right;\">\n",
              "      <th></th>\n",
              "      <th>bhk</th>\n",
              "      <th>area_sq_ft</th>\n",
              "      <th>location</th>\n",
              "      <th>price_lakh</th>\n",
              "      <th>bathrooms</th>\n",
              "      <th>price_per_sqft</th>\n",
              "    </tr>\n",
              "  </thead>\n",
              "  <tbody>\n",
              "    <tr>\n",
              "      <th>0</th>\n",
              "      <td>3</td>\n",
              "      <td>1100</td>\n",
              "      <td>Rajajipuram</td>\n",
              "      <td>33.0</td>\n",
              "      <td>2</td>\n",
              "      <td>3000.000000</td>\n",
              "    </tr>\n",
              "    <tr>\n",
              "      <th>1</th>\n",
              "      <td>3</td>\n",
              "      <td>1200</td>\n",
              "      <td>Sarojini Nagar</td>\n",
              "      <td>27.0</td>\n",
              "      <td>2</td>\n",
              "      <td>2250.000000</td>\n",
              "    </tr>\n",
              "    <tr>\n",
              "      <th>2</th>\n",
              "      <td>2</td>\n",
              "      <td>1250</td>\n",
              "      <td>Jankipuram</td>\n",
              "      <td>50.0</td>\n",
              "      <td>2</td>\n",
              "      <td>4000.000000</td>\n",
              "    </tr>\n",
              "    <tr>\n",
              "      <th>3</th>\n",
              "      <td>3</td>\n",
              "      <td>1320</td>\n",
              "      <td>Omaxe City</td>\n",
              "      <td>42.0</td>\n",
              "      <td>3</td>\n",
              "      <td>3181.818182</td>\n",
              "    </tr>\n",
              "    <tr>\n",
              "      <th>4</th>\n",
              "      <td>3</td>\n",
              "      <td>900</td>\n",
              "      <td>Vrindavan Yojna</td>\n",
              "      <td>48.0</td>\n",
              "      <td>2</td>\n",
              "      <td>5333.333333</td>\n",
              "    </tr>\n",
              "  </tbody>\n",
              "</table>\n",
              "</div>"
            ],
            "text/plain": [
              "   bhk  area_sq_ft         location  price_lakh  bathrooms  price_per_sqft\n",
              "0    3        1100      Rajajipuram        33.0          2     3000.000000\n",
              "1    3        1200   Sarojini Nagar        27.0          2     2250.000000\n",
              "2    2        1250       Jankipuram        50.0          2     4000.000000\n",
              "3    3        1320       Omaxe City        42.0          3     3181.818182\n",
              "4    3         900  Vrindavan Yojna        48.0          2     5333.333333"
            ]
          },
          "execution_count": 33,
          "metadata": {},
          "output_type": "execute_result"
        }
      ],
      "source": [
        "df4 = df2.copy()\n",
        "df4['price_per_sqft'] = df4['price_lakh']*100000/df4['area_sq_ft']\n",
        "df4.head()"
      ]
    },
    {
      "cell_type": "code",
      "execution_count": 34,
      "metadata": {
        "trusted": true
      },
      "outputs": [
        {
          "data": {
            "text/plain": [
              "location\n",
              "Aashiyana                                 1\n",
              "Alambagh                                  6\n",
              "Amity University Road                    23\n",
              "Amity University Road University Road     1\n",
              "Anora Kala                                6\n",
              "                                         ..\n",
              "Tiwariganj                                2\n",
              "Uattardhona                              15\n",
              "Vijay Nagar                               1\n",
              "Vikas Nagar                               1\n",
              "Vrindavan Yojna                           4\n",
              "Name: location, Length: 107, dtype: int64"
            ]
          },
          "execution_count": 34,
          "metadata": {},
          "output_type": "execute_result"
        }
      ],
      "source": [
        "df4.location=df4.location.apply(lambda x:x.strip())\n",
        "\n",
        "location_stats=df4.groupby('location')['location'].agg('count')\n",
        "location_stats"
      ]
    },
    {
      "cell_type": "code",
      "execution_count": 35,
      "metadata": {
        "trusted": true
      },
      "outputs": [
        {
          "data": {
            "text/html": [
              "<div>\n",
              "<style scoped>\n",
              "    .dataframe tbody tr th:only-of-type {\n",
              "        vertical-align: middle;\n",
              "    }\n",
              "\n",
              "    .dataframe tbody tr th {\n",
              "        vertical-align: top;\n",
              "    }\n",
              "\n",
              "    .dataframe thead th {\n",
              "        text-align: right;\n",
              "    }\n",
              "</style>\n",
              "<table border=\"1\" class=\"dataframe\">\n",
              "  <thead>\n",
              "    <tr style=\"text-align: right;\">\n",
              "      <th></th>\n",
              "      <th>bhk</th>\n",
              "      <th>area_sq_ft</th>\n",
              "      <th>location</th>\n",
              "      <th>price_lakh</th>\n",
              "      <th>bathrooms</th>\n",
              "      <th>price_per_sqft</th>\n",
              "    </tr>\n",
              "  </thead>\n",
              "  <tbody>\n",
              "    <tr>\n",
              "      <th>0</th>\n",
              "      <td>3</td>\n",
              "      <td>1100</td>\n",
              "      <td>Rajajipuram</td>\n",
              "      <td>33.00</td>\n",
              "      <td>2</td>\n",
              "      <td>3000.000000</td>\n",
              "    </tr>\n",
              "    <tr>\n",
              "      <th>1</th>\n",
              "      <td>3</td>\n",
              "      <td>1200</td>\n",
              "      <td>Sarojini Nagar</td>\n",
              "      <td>27.00</td>\n",
              "      <td>2</td>\n",
              "      <td>2250.000000</td>\n",
              "    </tr>\n",
              "    <tr>\n",
              "      <th>2</th>\n",
              "      <td>2</td>\n",
              "      <td>1250</td>\n",
              "      <td>Jankipuram</td>\n",
              "      <td>50.00</td>\n",
              "      <td>2</td>\n",
              "      <td>4000.000000</td>\n",
              "    </tr>\n",
              "    <tr>\n",
              "      <th>3</th>\n",
              "      <td>3</td>\n",
              "      <td>1320</td>\n",
              "      <td>Omaxe City</td>\n",
              "      <td>42.00</td>\n",
              "      <td>3</td>\n",
              "      <td>3181.818182</td>\n",
              "    </tr>\n",
              "    <tr>\n",
              "      <th>4</th>\n",
              "      <td>3</td>\n",
              "      <td>900</td>\n",
              "      <td>Vrindavan Yojna</td>\n",
              "      <td>48.00</td>\n",
              "      <td>2</td>\n",
              "      <td>5333.333333</td>\n",
              "    </tr>\n",
              "    <tr>\n",
              "      <th>5</th>\n",
              "      <td>2</td>\n",
              "      <td>1350</td>\n",
              "      <td>Matiyari</td>\n",
              "      <td>45.00</td>\n",
              "      <td>2</td>\n",
              "      <td>3333.333333</td>\n",
              "    </tr>\n",
              "    <tr>\n",
              "      <th>6</th>\n",
              "      <td>3</td>\n",
              "      <td>1219</td>\n",
              "      <td>Bhitauli</td>\n",
              "      <td>44.00</td>\n",
              "      <td>2</td>\n",
              "      <td>3609.515997</td>\n",
              "    </tr>\n",
              "    <tr>\n",
              "      <th>7</th>\n",
              "      <td>2</td>\n",
              "      <td>836</td>\n",
              "      <td>Kalyanpur West</td>\n",
              "      <td>43.47</td>\n",
              "      <td>2</td>\n",
              "      <td>5199.760766</td>\n",
              "    </tr>\n",
              "    <tr>\n",
              "      <th>8</th>\n",
              "      <td>3</td>\n",
              "      <td>1350</td>\n",
              "      <td>Fazullaganj</td>\n",
              "      <td>42.00</td>\n",
              "      <td>2</td>\n",
              "      <td>3111.111111</td>\n",
              "    </tr>\n",
              "    <tr>\n",
              "      <th>9</th>\n",
              "      <td>3</td>\n",
              "      <td>1030</td>\n",
              "      <td>IBIS</td>\n",
              "      <td>42.00</td>\n",
              "      <td>2</td>\n",
              "      <td>4077.669903</td>\n",
              "    </tr>\n",
              "  </tbody>\n",
              "</table>\n",
              "</div>"
            ],
            "text/plain": [
              "   bhk  area_sq_ft         location  price_lakh  bathrooms  price_per_sqft\n",
              "0    3        1100      Rajajipuram       33.00          2     3000.000000\n",
              "1    3        1200   Sarojini Nagar       27.00          2     2250.000000\n",
              "2    2        1250       Jankipuram       50.00          2     4000.000000\n",
              "3    3        1320       Omaxe City       42.00          3     3181.818182\n",
              "4    3         900  Vrindavan Yojna       48.00          2     5333.333333\n",
              "5    2        1350         Matiyari       45.00          2     3333.333333\n",
              "6    3        1219         Bhitauli       44.00          2     3609.515997\n",
              "7    2         836   Kalyanpur West       43.47          2     5199.760766\n",
              "8    3        1350      Fazullaganj       42.00          2     3111.111111\n",
              "9    3        1030             IBIS       42.00          2     4077.669903"
            ]
          },
          "execution_count": 35,
          "metadata": {},
          "output_type": "execute_result"
        }
      ],
      "source": [
        "df4.head(10)"
      ]
    },
    {
      "cell_type": "code",
      "execution_count": 36,
      "metadata": {
        "trusted": true
      },
      "outputs": [
        {
          "data": {
            "text/plain": [
              "count     471.000000\n",
              "mean     3688.436691\n",
              "std       859.104621\n",
              "min       699.000000\n",
              "25%      3000.000000\n",
              "50%      3700.000000\n",
              "75%      4166.666667\n",
              "max      7272.727273\n",
              "Name: price_per_sqft, dtype: float64"
            ]
          },
          "execution_count": 36,
          "metadata": {},
          "output_type": "execute_result"
        }
      ],
      "source": [
        "df4.price_per_sqft.describe()"
      ]
    },
    {
      "cell_type": "code",
      "execution_count": 83,
      "metadata": {
        "trusted": true
      },
      "outputs": [
        {
          "data": {
            "image/png": "[encoded data removed]",
            "text/plain": [
              "<Figure size 1500x1000 with 1 Axes>"
            ]
          },
          "metadata": {},
          "output_type": "display_data"
        }
      ],
      "source": [
        "def plot_scatter_chart(df,location):\n",
        "    bhk2 = df[(df.location==location) & (df.bhk==2)]\n",
        "    bhk3 = df[(df.location==location) & (df.bhk==3)]\n",
        "    matplotlib.rcParams['figure.figsize'] = (15,10)\n",
        "    plt.scatter(bhk2.area_sq_ft,bhk2.price_lakh,color='blue',label='2 BHK', s=50)\n",
        "    plt.scatter(bhk3.area_sq_ft,bhk3.price_lakh,marker='+', color='green',label='3 BHK', s=50)\n",
        "    plt.xlabel(\"Total Square Feet Area\")\n",
        "    plt.ylabel(\"Price (Lakh Indian Rupees)\")\n",
        "    plt.title(location)\n",
        "    plt.legend()\n",
        "    \n",
        "plot_scatter_chart(df5,\"Amity University Roadt\")"
      ]
    },
    {
      "cell_type": "code",
      "execution_count": 84,
      "metadata": {
        "trusted": true
      },
      "outputs": [
        {
          "data": {
            "text/plain": [
              "(451, 6)"
            ]
          },
          "execution_count": 84,
          "metadata": {},
          "output_type": "execute_result"
        }
      ],
      "source": [
        "def remove_bhk_outliers(df):\n",
        "    exclude_indices = np.array([])\n",
        "    for location, location_df in df.groupby('location'):\n",
        "        bhk_stats = {}\n",
        "        for bhk, bhk_df in location_df.groupby('bhk'):\n",
        "            bhk_stats[bhk] = {\n",
        "                'mean': np.mean(bhk_df.price_per_sqft),\n",
        "                'std': np.std(bhk_df.price_per_sqft),\n",
        "                'count': bhk_df.shape[0]\n",
        "            }\n",
        "        for bhk, bhk_df in location_df.groupby('bhk'):\n",
        "            stats = bhk_stats.get(bhk-1)\n",
        "            if stats and stats['count']>5:\n",
        "                exclude_indices = np.append(exclude_indices, bhk_df[bhk_df.price_per_sqft<(stats['mean'])].index.values)\n",
        "    return df.drop(exclude_indices,axis='index')\n",
        "df5 = remove_bhk_outliers(df4)\n",
        "# df8 = df7.copy()\n",
        "df5.shape"
      ]
    },
    {
      "cell_type": "code",
      "execution_count": 85,
      "metadata": {
        "trusted": true
      },
      "outputs": [
        {
          "data": {
            "image/png": "[encoded data removed]",
            "text/plain": [
              "<Figure size 1500x1000 with 1 Axes>"
            ]
          },
          "metadata": {},
          "output_type": "display_data"
        }
      ],
      "source": [
        "plot_scatter_chart(df5,\"Amity University Road\")"
      ]
    },
    {
      "cell_type": "code",
      "execution_count": 86,
      "metadata": {
        "trusted": true
      },
      "outputs": [
        {
          "data": {
            "image/png": "[encoded data removed]",
            "text/plain": [
              "<Figure size 1500x1000 with 1 Axes>"
            ]
          },
          "metadata": {},
          "output_type": "display_data"
        }
      ],
      "source": [
        "plot_scatter_chart(df5,\"Uattardhona\")"
      ]
    },
    {
      "cell_type": "code",
      "execution_count": 87,
      "metadata": {
        "trusted": true
      },
      "outputs": [
        {
          "data": {
            "text/plain": [
              "Text(0, 0.5, 'Count')"
            ]
          },
          "execution_count": 87,
          "metadata": {},
          "output_type": "execute_result"
        },
        {
          "data": {
            "image/png": "[encoded data removed]",
            "text/plain": [
              "<Figure size 2000x1000 with 1 Axes>"
            ]
          },
          "metadata": {},
          "output_type": "display_data"
        }
      ],
      "source": [
        "import matplotlib\n",
        "matplotlib.rcParams[\"figure.figsize\"] = (20,10)\n",
        "plt.hist(df5.price_per_sqft,rwidth=0.8)\n",
        "plt.xlabel(\"Price Per Square Feet\")\n",
        "plt.ylabel(\"Count\")"
      ]
    },
    {
      "cell_type": "code",
      "execution_count": 88,
      "metadata": {
        "trusted": true
      },
      "outputs": [
        {
          "data": {
            "text/plain": [
              "array([2, 3, 1, 5], dtype=int64)"
            ]
          },
          "execution_count": 88,
          "metadata": {},
          "output_type": "execute_result"
        }
      ],
      "source": [
        "df5.bathrooms.unique()"
      ]
    },
    {
      "cell_type": "code",
      "execution_count": 89,
      "metadata": {
        "trusted": true
      },
      "outputs": [
        {
          "data": {
            "text/plain": [
              "Text(0, 0.5, 'Count')"
            ]
          },
          "execution_count": 89,
          "metadata": {},
          "output_type": "execute_result"
        },
        {
          "data": {
            "image/png": "[encoded data removed]",
            "text/plain": [
              "<Figure size 2000x1000 with 1 Axes>"
            ]
          },
          "metadata": {},
          "output_type": "display_data"
        }
      ],
      "source": [
        "plt.hist(df5.bathrooms,rwidth=0.8)\n",
        "plt.xlabel(\"Number of bathrooms\")\n",
        "plt.ylabel(\"Count\")"
      ]
    },
    {
      "cell_type": "code",
      "execution_count": 90,
      "metadata": {
        "trusted": true
      },
      "outputs": [
        {
          "data": {
            "text/html": [
              "<div>\n",
              "<style scoped>\n",
              "    .dataframe tbody tr th:only-of-type {\n",
              "        vertical-align: middle;\n",
              "    }\n",
              "\n",
              "    .dataframe tbody tr th {\n",
              "        vertical-align: top;\n",
              "    }\n",
              "\n",
              "    .dataframe thead th {\n",
              "        text-align: right;\n",
              "    }\n",
              "</style>\n",
              "<table border=\"1\" class=\"dataframe\">\n",
              "  <thead>\n",
              "    <tr style=\"text-align: right;\">\n",
              "      <th></th>\n",
              "      <th>bhk</th>\n",
              "      <th>area_sq_ft</th>\n",
              "      <th>location</th>\n",
              "      <th>price_lakh</th>\n",
              "      <th>bathrooms</th>\n",
              "      <th>price_per_sqft</th>\n",
              "    </tr>\n",
              "  </thead>\n",
              "  <tbody>\n",
              "    <tr>\n",
              "      <th>31</th>\n",
              "      <td>3</td>\n",
              "      <td>1535</td>\n",
              "      <td>Bijnor Road</td>\n",
              "      <td>45.0</td>\n",
              "      <td>5</td>\n",
              "      <td>2931.596091</td>\n",
              "    </tr>\n",
              "  </tbody>\n",
              "</table>\n",
              "</div>"
            ],
            "text/plain": [
              "    bhk  area_sq_ft     location  price_lakh  bathrooms  price_per_sqft\n",
              "31    3        1535  Bijnor Road        45.0          5     2931.596091"
            ]
          },
          "execution_count": 90,
          "metadata": {},
          "output_type": "execute_result"
        }
      ],
      "source": [
        "df5[df5.bathrooms>df5.bhk+1]"
      ]
    },
    {
      "cell_type": "code",
      "execution_count": 91,
      "metadata": {
        "trusted": true
      },
      "outputs": [
        {
          "data": {
            "text/html": [
              "<div>\n",
              "<style scoped>\n",
              "    .dataframe tbody tr th:only-of-type {\n",
              "        vertical-align: middle;\n",
              "    }\n",
              "\n",
              "    .dataframe tbody tr th {\n",
              "        vertical-align: top;\n",
              "    }\n",
              "\n",
              "    .dataframe thead th {\n",
              "        text-align: right;\n",
              "    }\n",
              "</style>\n",
              "<table border=\"1\" class=\"dataframe\">\n",
              "  <thead>\n",
              "    <tr style=\"text-align: right;\">\n",
              "      <th></th>\n",
              "      <th>bhk</th>\n",
              "      <th>area_sq_ft</th>\n",
              "      <th>location</th>\n",
              "      <th>price_lakh</th>\n",
              "      <th>bathrooms</th>\n",
              "    </tr>\n",
              "  </thead>\n",
              "  <tbody>\n",
              "    <tr>\n",
              "      <th>0</th>\n",
              "      <td>3</td>\n",
              "      <td>1100</td>\n",
              "      <td>Rajajipuram</td>\n",
              "      <td>33.0</td>\n",
              "      <td>2</td>\n",
              "    </tr>\n",
              "    <tr>\n",
              "      <th>1</th>\n",
              "      <td>3</td>\n",
              "      <td>1200</td>\n",
              "      <td>Sarojini Nagar</td>\n",
              "      <td>27.0</td>\n",
              "      <td>2</td>\n",
              "    </tr>\n",
              "    <tr>\n",
              "      <th>2</th>\n",
              "      <td>2</td>\n",
              "      <td>1250</td>\n",
              "      <td>Jankipuram</td>\n",
              "      <td>50.0</td>\n",
              "      <td>2</td>\n",
              "    </tr>\n",
              "  </tbody>\n",
              "</table>\n",
              "</div>"
            ],
            "text/plain": [
              "   bhk  area_sq_ft        location  price_lakh  bathrooms\n",
              "0    3        1100     Rajajipuram        33.0          2\n",
              "1    3        1200  Sarojini Nagar        27.0          2\n",
              "2    2        1250      Jankipuram        50.0          2"
            ]
          },
          "execution_count": 91,
          "metadata": {},
          "output_type": "execute_result"
        }
      ],
      "source": [
        "df6 = df5.drop(['price_per_sqft'],axis='columns')\n",
        "df6.head(3)"
      ]
    },
    {
      "cell_type": "code",
      "execution_count": 92,
      "metadata": {
        "trusted": true
      },
      "outputs": [
        {
          "data": {
            "text/html": [
              "<div>\n",
              "<style scoped>\n",
              "    .dataframe tbody tr th:only-of-type {\n",
              "        vertical-align: middle;\n",
              "    }\n",
              "\n",
              "    .dataframe tbody tr th {\n",
              "        vertical-align: top;\n",
              "    }\n",
              "\n",
              "    .dataframe thead th {\n",
              "        text-align: right;\n",
              "    }\n",
              "</style>\n",
              "<table border=\"1\" class=\"dataframe\">\n",
              "  <thead>\n",
              "    <tr style=\"text-align: right;\">\n",
              "      <th></th>\n",
              "      <th>Aashiyana</th>\n",
              "      <th>Alambagh</th>\n",
              "      <th>Amity University Road</th>\n",
              "      <th>Amity University Road University Road</th>\n",
              "      <th>Anora Kala</th>\n",
              "      <th>Aurangabad</th>\n",
              "      <th>Aurangabad Khalsa</th>\n",
              "      <th>Bakshi Ka Talab</th>\n",
              "      <th>Bakshi Ka Talab Talab</th>\n",
              "      <th>Balaganj</th>\n",
              "      <th>...</th>\n",
              "      <th>South City</th>\n",
              "      <th>Sugamau Road</th>\n",
              "      <th>Sultanpur Road</th>\n",
              "      <th>Surendra Nagar</th>\n",
              "      <th>Takrohi</th>\n",
              "      <th>Tiwariganj</th>\n",
              "      <th>Uattardhona</th>\n",
              "      <th>Vijay Nagar</th>\n",
              "      <th>Vikas Nagar</th>\n",
              "      <th>Vrindavan Yojna</th>\n",
              "    </tr>\n",
              "  </thead>\n",
              "  <tbody>\n",
              "    <tr>\n",
              "      <th>0</th>\n",
              "      <td>0</td>\n",
              "      <td>0</td>\n",
              "      <td>0</td>\n",
              "      <td>0</td>\n",
              "      <td>0</td>\n",
              "      <td>0</td>\n",
              "      <td>0</td>\n",
              "      <td>0</td>\n",
              "      <td>0</td>\n",
              "      <td>0</td>\n",
              "      <td>...</td>\n",
              "      <td>0</td>\n",
              "      <td>0</td>\n",
              "      <td>0</td>\n",
              "      <td>0</td>\n",
              "      <td>0</td>\n",
              "      <td>0</td>\n",
              "      <td>0</td>\n",
              "      <td>0</td>\n",
              "      <td>0</td>\n",
              "      <td>0</td>\n",
              "    </tr>\n",
              "    <tr>\n",
              "      <th>1</th>\n",
              "      <td>0</td>\n",
              "      <td>0</td>\n",
              "      <td>0</td>\n",
              "      <td>0</td>\n",
              "      <td>0</td>\n",
              "      <td>0</td>\n",
              "      <td>0</td>\n",
              "      <td>0</td>\n",
              "      <td>0</td>\n",
              "      <td>0</td>\n",
              "      <td>...</td>\n",
              "      <td>0</td>\n",
              "      <td>0</td>\n",
              "      <td>0</td>\n",
              "      <td>0</td>\n",
              "      <td>0</td>\n",
              "      <td>0</td>\n",
              "      <td>0</td>\n",
              "      <td>0</td>\n",
              "      <td>0</td>\n",
              "      <td>0</td>\n",
              "    </tr>\n",
              "    <tr>\n",
              "      <th>2</th>\n",
              "      <td>0</td>\n",
              "      <td>0</td>\n",
              "      <td>0</td>\n",
              "      <td>0</td>\n",
              "      <td>0</td>\n",
              "      <td>0</td>\n",
              "      <td>0</td>\n",
              "      <td>0</td>\n",
              "      <td>0</td>\n",
              "      <td>0</td>\n",
              "      <td>...</td>\n",
              "      <td>0</td>\n",
              "      <td>0</td>\n",
              "      <td>0</td>\n",
              "      <td>0</td>\n",
              "      <td>0</td>\n",
              "      <td>0</td>\n",
              "      <td>0</td>\n",
              "      <td>0</td>\n",
              "      <td>0</td>\n",
              "      <td>0</td>\n",
              "    </tr>\n",
              "  </tbody>\n",
              "</table>\n",
              "<p>3 rows × 107 columns</p>\n",
              "</div>"
            ],
            "text/plain": [
              "   Aashiyana  Alambagh  Amity University Road  \\\n",
              "0          0         0                      0   \n",
              "1          0         0                      0   \n",
              "2          0         0                      0   \n",
              "\n",
              "   Amity University Road University Road  Anora Kala  Aurangabad  \\\n",
              "0                                      0           0           0   \n",
              "1                                      0           0           0   \n",
              "2                                      0           0           0   \n",
              "\n",
              "   Aurangabad Khalsa  Bakshi Ka Talab  Bakshi Ka Talab Talab  Balaganj  ...  \\\n",
              "0                  0                0                      0         0  ...   \n",
              "1                  0                0                      0         0  ...   \n",
              "2                  0                0                      0         0  ...   \n",
              "\n",
              "   South City  Sugamau Road  Sultanpur Road  Surendra Nagar  Takrohi  \\\n",
              "0           0             0               0               0        0   \n",
              "1           0             0               0               0        0   \n",
              "2           0             0               0               0        0   \n",
              "\n",
              "   Tiwariganj  Uattardhona  Vijay Nagar  Vikas Nagar  Vrindavan Yojna  \n",
              "0           0            0            0            0                0  \n",
              "1           0            0            0            0                0  \n",
              "2           0            0            0            0                0  \n",
              "\n",
              "[3 rows x 107 columns]"
            ]
          },
          "execution_count": 92,
          "metadata": {},
          "output_type": "execute_result"
        }
      ],
      "source": [
        "dummies = pd.get_dummies(df6.location)\n",
        "dummies.head(3)"
      ]
    },
    {
      "cell_type": "code",
      "execution_count": 93,
      "metadata": {
        "trusted": true
      },
      "outputs": [
        {
          "data": {
            "text/html": [
              "<div>\n",
              "<style scoped>\n",
              "    .dataframe tbody tr th:only-of-type {\n",
              "        vertical-align: middle;\n",
              "    }\n",
              "\n",
              "    .dataframe tbody tr th {\n",
              "        vertical-align: top;\n",
              "    }\n",
              "\n",
              "    .dataframe thead th {\n",
              "        text-align: right;\n",
              "    }\n",
              "</style>\n",
              "<table border=\"1\" class=\"dataframe\">\n",
              "  <thead>\n",
              "    <tr style=\"text-align: right;\">\n",
              "      <th></th>\n",
              "      <th>bhk</th>\n",
              "      <th>area_sq_ft</th>\n",
              "      <th>location</th>\n",
              "      <th>price_lakh</th>\n",
              "      <th>bathrooms</th>\n",
              "      <th>Aashiyana</th>\n",
              "      <th>Alambagh</th>\n",
              "      <th>Amity University Road</th>\n",
              "      <th>Amity University Road University Road</th>\n",
              "      <th>Anora Kala</th>\n",
              "      <th>...</th>\n",
              "      <th>South City</th>\n",
              "      <th>Sugamau Road</th>\n",
              "      <th>Sultanpur Road</th>\n",
              "      <th>Surendra Nagar</th>\n",
              "      <th>Takrohi</th>\n",
              "      <th>Tiwariganj</th>\n",
              "      <th>Uattardhona</th>\n",
              "      <th>Vijay Nagar</th>\n",
              "      <th>Vikas Nagar</th>\n",
              "      <th>Vrindavan Yojna</th>\n",
              "    </tr>\n",
              "  </thead>\n",
              "  <tbody>\n",
              "    <tr>\n",
              "      <th>0</th>\n",
              "      <td>3</td>\n",
              "      <td>1100</td>\n",
              "      <td>Rajajipuram</td>\n",
              "      <td>33.0</td>\n",
              "      <td>2</td>\n",
              "      <td>0</td>\n",
              "      <td>0</td>\n",
              "      <td>0</td>\n",
              "      <td>0</td>\n",
              "      <td>0</td>\n",
              "      <td>...</td>\n",
              "      <td>0</td>\n",
              "      <td>0</td>\n",
              "      <td>0</td>\n",
              "      <td>0</td>\n",
              "      <td>0</td>\n",
              "      <td>0</td>\n",
              "      <td>0</td>\n",
              "      <td>0</td>\n",
              "      <td>0</td>\n",
              "      <td>0</td>\n",
              "    </tr>\n",
              "    <tr>\n",
              "      <th>1</th>\n",
              "      <td>3</td>\n",
              "      <td>1200</td>\n",
              "      <td>Sarojini Nagar</td>\n",
              "      <td>27.0</td>\n",
              "      <td>2</td>\n",
              "      <td>0</td>\n",
              "      <td>0</td>\n",
              "      <td>0</td>\n",
              "      <td>0</td>\n",
              "      <td>0</td>\n",
              "      <td>...</td>\n",
              "      <td>0</td>\n",
              "      <td>0</td>\n",
              "      <td>0</td>\n",
              "      <td>0</td>\n",
              "      <td>0</td>\n",
              "      <td>0</td>\n",
              "      <td>0</td>\n",
              "      <td>0</td>\n",
              "      <td>0</td>\n",
              "      <td>0</td>\n",
              "    </tr>\n",
              "    <tr>\n",
              "      <th>2</th>\n",
              "      <td>2</td>\n",
              "      <td>1250</td>\n",
              "      <td>Jankipuram</td>\n",
              "      <td>50.0</td>\n",
              "      <td>2</td>\n",
              "      <td>0</td>\n",
              "      <td>0</td>\n",
              "      <td>0</td>\n",
              "      <td>0</td>\n",
              "      <td>0</td>\n",
              "      <td>...</td>\n",
              "      <td>0</td>\n",
              "      <td>0</td>\n",
              "      <td>0</td>\n",
              "      <td>0</td>\n",
              "      <td>0</td>\n",
              "      <td>0</td>\n",
              "      <td>0</td>\n",
              "      <td>0</td>\n",
              "      <td>0</td>\n",
              "      <td>0</td>\n",
              "    </tr>\n",
              "    <tr>\n",
              "      <th>3</th>\n",
              "      <td>3</td>\n",
              "      <td>1320</td>\n",
              "      <td>Omaxe City</td>\n",
              "      <td>42.0</td>\n",
              "      <td>3</td>\n",
              "      <td>0</td>\n",
              "      <td>0</td>\n",
              "      <td>0</td>\n",
              "      <td>0</td>\n",
              "      <td>0</td>\n",
              "      <td>...</td>\n",
              "      <td>0</td>\n",
              "      <td>0</td>\n",
              "      <td>0</td>\n",
              "      <td>0</td>\n",
              "      <td>0</td>\n",
              "      <td>0</td>\n",
              "      <td>0</td>\n",
              "      <td>0</td>\n",
              "      <td>0</td>\n",
              "      <td>0</td>\n",
              "    </tr>\n",
              "    <tr>\n",
              "      <th>4</th>\n",
              "      <td>3</td>\n",
              "      <td>900</td>\n",
              "      <td>Vrindavan Yojna</td>\n",
              "      <td>48.0</td>\n",
              "      <td>2</td>\n",
              "      <td>0</td>\n",
              "      <td>0</td>\n",
              "      <td>0</td>\n",
              "      <td>0</td>\n",
              "      <td>0</td>\n",
              "      <td>...</td>\n",
              "      <td>0</td>\n",
              "      <td>0</td>\n",
              "      <td>0</td>\n",
              "      <td>0</td>\n",
              "      <td>0</td>\n",
              "      <td>0</td>\n",
              "      <td>0</td>\n",
              "      <td>0</td>\n",
              "      <td>0</td>\n",
              "      <td>1</td>\n",
              "    </tr>\n",
              "  </tbody>\n",
              "</table>\n",
              "<p>5 rows × 112 columns</p>\n",
              "</div>"
            ],
            "text/plain": [
              "   bhk  area_sq_ft         location  price_lakh  bathrooms  Aashiyana  \\\n",
              "0    3        1100      Rajajipuram        33.0          2          0   \n",
              "1    3        1200   Sarojini Nagar        27.0          2          0   \n",
              "2    2        1250       Jankipuram        50.0          2          0   \n",
              "3    3        1320       Omaxe City        42.0          3          0   \n",
              "4    3         900  Vrindavan Yojna        48.0          2          0   \n",
              "\n",
              "   Alambagh  Amity University Road  Amity University Road University Road  \\\n",
              "0         0                      0                                      0   \n",
              "1         0                      0                                      0   \n",
              "2         0                      0                                      0   \n",
              "3         0                      0                                      0   \n",
              "4         0                      0                                      0   \n",
              "\n",
              "   Anora Kala  ...  South City  Sugamau Road  Sultanpur Road  Surendra Nagar  \\\n",
              "0           0  ...           0             0               0               0   \n",
              "1           0  ...           0             0               0               0   \n",
              "2           0  ...           0             0               0               0   \n",
              "3           0  ...           0             0               0               0   \n",
              "4           0  ...           0             0               0               0   \n",
              "\n",
              "   Takrohi  Tiwariganj  Uattardhona  Vijay Nagar  Vikas Nagar  Vrindavan Yojna  \n",
              "0        0           0            0            0            0                0  \n",
              "1        0           0            0            0            0                0  \n",
              "2        0           0            0            0            0                0  \n",
              "3        0           0            0            0            0                0  \n",
              "4        0           0            0            0            0                1  \n",
              "\n",
              "[5 rows x 112 columns]"
            ]
          },
          "execution_count": 93,
          "metadata": {},
          "output_type": "execute_result"
        }
      ],
      "source": [
        "df7 = pd.concat([df6,dummies],axis='columns')\n",
        "df7.head()"
      ]
    },
    {
      "cell_type": "code",
      "execution_count": 94,
      "metadata": {
        "trusted": true
      },
      "outputs": [
        {
          "data": {
            "text/html": [
              "<div>\n",
              "<style scoped>\n",
              "    .dataframe tbody tr th:only-of-type {\n",
              "        vertical-align: middle;\n",
              "    }\n",
              "\n",
              "    .dataframe tbody tr th {\n",
              "        vertical-align: top;\n",
              "    }\n",
              "\n",
              "    .dataframe thead th {\n",
              "        text-align: right;\n",
              "    }\n",
              "</style>\n",
              "<table border=\"1\" class=\"dataframe\">\n",
              "  <thead>\n",
              "    <tr style=\"text-align: right;\">\n",
              "      <th></th>\n",
              "      <th>bhk</th>\n",
              "      <th>area_sq_ft</th>\n",
              "      <th>price_lakh</th>\n",
              "      <th>bathrooms</th>\n",
              "      <th>Aashiyana</th>\n",
              "      <th>Alambagh</th>\n",
              "      <th>Amity University Road</th>\n",
              "      <th>Amity University Road University Road</th>\n",
              "      <th>Anora Kala</th>\n",
              "      <th>Aurangabad</th>\n",
              "      <th>...</th>\n",
              "      <th>South City</th>\n",
              "      <th>Sugamau Road</th>\n",
              "      <th>Sultanpur Road</th>\n",
              "      <th>Surendra Nagar</th>\n",
              "      <th>Takrohi</th>\n",
              "      <th>Tiwariganj</th>\n",
              "      <th>Uattardhona</th>\n",
              "      <th>Vijay Nagar</th>\n",
              "      <th>Vikas Nagar</th>\n",
              "      <th>Vrindavan Yojna</th>\n",
              "    </tr>\n",
              "  </thead>\n",
              "  <tbody>\n",
              "    <tr>\n",
              "      <th>0</th>\n",
              "      <td>3</td>\n",
              "      <td>1100</td>\n",
              "      <td>33.0</td>\n",
              "      <td>2</td>\n",
              "      <td>0</td>\n",
              "      <td>0</td>\n",
              "      <td>0</td>\n",
              "      <td>0</td>\n",
              "      <td>0</td>\n",
              "      <td>0</td>\n",
              "      <td>...</td>\n",
              "      <td>0</td>\n",
              "      <td>0</td>\n",
              "      <td>0</td>\n",
              "      <td>0</td>\n",
              "      <td>0</td>\n",
              "      <td>0</td>\n",
              "      <td>0</td>\n",
              "      <td>0</td>\n",
              "      <td>0</td>\n",
              "      <td>0</td>\n",
              "    </tr>\n",
              "    <tr>\n",
              "      <th>1</th>\n",
              "      <td>3</td>\n",
              "      <td>1200</td>\n",
              "      <td>27.0</td>\n",
              "      <td>2</td>\n",
              "      <td>0</td>\n",
              "      <td>0</td>\n",
              "      <td>0</td>\n",
              "      <td>0</td>\n",
              "      <td>0</td>\n",
              "      <td>0</td>\n",
              "      <td>...</td>\n",
              "      <td>0</td>\n",
              "      <td>0</td>\n",
              "      <td>0</td>\n",
              "      <td>0</td>\n",
              "      <td>0</td>\n",
              "      <td>0</td>\n",
              "      <td>0</td>\n",
              "      <td>0</td>\n",
              "      <td>0</td>\n",
              "      <td>0</td>\n",
              "    </tr>\n",
              "  </tbody>\n",
              "</table>\n",
              "<p>2 rows × 111 columns</p>\n",
              "</div>"
            ],
            "text/plain": [
              "   bhk  area_sq_ft  price_lakh  bathrooms  Aashiyana  Alambagh  \\\n",
              "0    3        1100        33.0          2          0         0   \n",
              "1    3        1200        27.0          2          0         0   \n",
              "\n",
              "   Amity University Road  Amity University Road University Road  Anora Kala  \\\n",
              "0                      0                                      0           0   \n",
              "1                      0                                      0           0   \n",
              "\n",
              "   Aurangabad  ...  South City  Sugamau Road  Sultanpur Road  Surendra Nagar  \\\n",
              "0           0  ...           0             0               0               0   \n",
              "1           0  ...           0             0               0               0   \n",
              "\n",
              "   Takrohi  Tiwariganj  Uattardhona  Vijay Nagar  Vikas Nagar  Vrindavan Yojna  \n",
              "0        0           0            0            0            0                0  \n",
              "1        0           0            0            0            0                0  \n",
              "\n",
              "[2 rows x 111 columns]"
            ]
          },
          "execution_count": 94,
          "metadata": {},
          "output_type": "execute_result"
        }
      ],
      "source": [
        "df8 = df7.drop('location',axis='columns')\n",
        "df8.head(2)"
      ]
    },
    {
      "cell_type": "code",
      "execution_count": 95,
      "metadata": {
        "trusted": true
      },
      "outputs": [
        {
          "data": {
            "text/html": [
              "<div>\n",
              "<style scoped>\n",
              "    .dataframe tbody tr th:only-of-type {\n",
              "        vertical-align: middle;\n",
              "    }\n",
              "\n",
              "    .dataframe tbody tr th {\n",
              "        vertical-align: top;\n",
              "    }\n",
              "\n",
              "    .dataframe thead th {\n",
              "        text-align: right;\n",
              "    }\n",
              "</style>\n",
              "<table border=\"1\" class=\"dataframe\">\n",
              "  <thead>\n",
              "    <tr style=\"text-align: right;\">\n",
              "      <th></th>\n",
              "      <th>bhk</th>\n",
              "      <th>area_sq_ft</th>\n",
              "      <th>bathrooms</th>\n",
              "      <th>Aashiyana</th>\n",
              "      <th>Alambagh</th>\n",
              "      <th>Amity University Road</th>\n",
              "      <th>Amity University Road University Road</th>\n",
              "      <th>Anora Kala</th>\n",
              "      <th>Aurangabad</th>\n",
              "      <th>Aurangabad Khalsa</th>\n",
              "      <th>...</th>\n",
              "      <th>South City</th>\n",
              "      <th>Sugamau Road</th>\n",
              "      <th>Sultanpur Road</th>\n",
              "      <th>Surendra Nagar</th>\n",
              "      <th>Takrohi</th>\n",
              "      <th>Tiwariganj</th>\n",
              "      <th>Uattardhona</th>\n",
              "      <th>Vijay Nagar</th>\n",
              "      <th>Vikas Nagar</th>\n",
              "      <th>Vrindavan Yojna</th>\n",
              "    </tr>\n",
              "  </thead>\n",
              "  <tbody>\n",
              "    <tr>\n",
              "      <th>0</th>\n",
              "      <td>3</td>\n",
              "      <td>1100</td>\n",
              "      <td>2</td>\n",
              "      <td>0</td>\n",
              "      <td>0</td>\n",
              "      <td>0</td>\n",
              "      <td>0</td>\n",
              "      <td>0</td>\n",
              "      <td>0</td>\n",
              "      <td>0</td>\n",
              "      <td>...</td>\n",
              "      <td>0</td>\n",
              "      <td>0</td>\n",
              "      <td>0</td>\n",
              "      <td>0</td>\n",
              "      <td>0</td>\n",
              "      <td>0</td>\n",
              "      <td>0</td>\n",
              "      <td>0</td>\n",
              "      <td>0</td>\n",
              "      <td>0</td>\n",
              "    </tr>\n",
              "    <tr>\n",
              "      <th>1</th>\n",
              "      <td>3</td>\n",
              "      <td>1200</td>\n",
              "      <td>2</td>\n",
              "      <td>0</td>\n",
              "      <td>0</td>\n",
              "      <td>0</td>\n",
              "      <td>0</td>\n",
              "      <td>0</td>\n",
              "      <td>0</td>\n",
              "      <td>0</td>\n",
              "      <td>...</td>\n",
              "      <td>0</td>\n",
              "      <td>0</td>\n",
              "      <td>0</td>\n",
              "      <td>0</td>\n",
              "      <td>0</td>\n",
              "      <td>0</td>\n",
              "      <td>0</td>\n",
              "      <td>0</td>\n",
              "      <td>0</td>\n",
              "      <td>0</td>\n",
              "    </tr>\n",
              "    <tr>\n",
              "      <th>2</th>\n",
              "      <td>2</td>\n",
              "      <td>1250</td>\n",
              "      <td>2</td>\n",
              "      <td>0</td>\n",
              "      <td>0</td>\n",
              "      <td>0</td>\n",
              "      <td>0</td>\n",
              "      <td>0</td>\n",
              "      <td>0</td>\n",
              "      <td>0</td>\n",
              "      <td>...</td>\n",
              "      <td>0</td>\n",
              "      <td>0</td>\n",
              "      <td>0</td>\n",
              "      <td>0</td>\n",
              "      <td>0</td>\n",
              "      <td>0</td>\n",
              "      <td>0</td>\n",
              "      <td>0</td>\n",
              "      <td>0</td>\n",
              "      <td>0</td>\n",
              "    </tr>\n",
              "  </tbody>\n",
              "</table>\n",
              "<p>3 rows × 110 columns</p>\n",
              "</div>"
            ],
            "text/plain": [
              "   bhk  area_sq_ft  bathrooms  Aashiyana  Alambagh  Amity University Road  \\\n",
              "0    3        1100          2          0         0                      0   \n",
              "1    3        1200          2          0         0                      0   \n",
              "2    2        1250          2          0         0                      0   \n",
              "\n",
              "   Amity University Road University Road  Anora Kala  Aurangabad  \\\n",
              "0                                      0           0           0   \n",
              "1                                      0           0           0   \n",
              "2                                      0           0           0   \n",
              "\n",
              "   Aurangabad Khalsa  ...  South City  Sugamau Road  Sultanpur Road  \\\n",
              "0                  0  ...           0             0               0   \n",
              "1                  0  ...           0             0               0   \n",
              "2                  0  ...           0             0               0   \n",
              "\n",
              "   Surendra Nagar  Takrohi  Tiwariganj  Uattardhona  Vijay Nagar  Vikas Nagar  \\\n",
              "0               0        0           0            0            0            0   \n",
              "1               0        0           0            0            0            0   \n",
              "2               0        0           0            0            0            0   \n",
              "\n",
              "   Vrindavan Yojna  \n",
              "0                0  \n",
              "1                0  \n",
              "2                0  \n",
              "\n",
              "[3 rows x 110 columns]"
            ]
          },
          "execution_count": 95,
          "metadata": {},
          "output_type": "execute_result"
        }
      ],
      "source": [
        "X = df8.drop(['price_lakh'],axis='columns')\n",
        "X.head(3)"
      ]
    },
    {
      "cell_type": "code",
      "execution_count": 96,
      "metadata": {
        "trusted": true
      },
      "outputs": [
        {
          "data": {
            "text/plain": [
              "0    33.0\n",
              "1    27.0\n",
              "2    50.0\n",
              "Name: price_lakh, dtype: float64"
            ]
          },
          "execution_count": 96,
          "metadata": {},
          "output_type": "execute_result"
        }
      ],
      "source": [
        "y = df8.price_lakh\n",
        "y.head(3)"
      ]
    },
    {
      "cell_type": "code",
      "execution_count": 97,
      "metadata": {
        "trusted": true
      },
      "outputs": [
        {
          "data": {
            "text/plain": [
              "451"
            ]
          },
          "execution_count": 97,
          "metadata": {},
          "output_type": "execute_result"
        }
      ],
      "source": [
        "len(y)"
      ]
    },
    {
      "cell_type": "code",
      "execution_count": 98,
      "metadata": {
        "trusted": true
      },
      "outputs": [],
      "source": [
        "from sklearn.model_selection import train_test_split\n",
        "X_train, X_test, y_train, y_test = train_test_split(X,y,test_size=0.2,random_state=5)\n"
      ]
    },
    {
      "cell_type": "code",
      "execution_count": 99,
      "metadata": {
        "trusted": true
      },
      "outputs": [
        {
          "data": {
            "text/plain": [
              "0.6520920610894857"
            ]
          },
          "execution_count": 99,
          "metadata": {},
          "output_type": "execute_result"
        }
      ],
      "source": [
        "from sklearn.linear_model import LinearRegression\n",
        "lr_clf = LinearRegression()\n",
        "lr_clf.fit(X_train,y_train)\n",
        "lr_clf.score(X_test,y_test)"
      ]
    },
    {
      "cell_type": "code",
      "execution_count": 100,
      "metadata": {
        "trusted": true
      },
      "outputs": [],
      "source": [
        "def predict_price(location,sqft,bath,bhk):    \n",
        "    loc_index = np.where(X.columns==location)[0][0]\n",
        "\n",
        "    x = np.zeros(len(X.columns))\n",
        "    x[0] = sqft\n",
        "    x[1] = bath\n",
        "    x[2] = bhk\n",
        "    if loc_index >= 0:\n",
        "        x[loc_index] = 1\n",
        "\n",
        "    return lr_clf.predict([x])[0]"
      ]
    },
    {
      "cell_type": "code",
      "execution_count": 101,
      "metadata": {
        "trusted": true
      },
      "outputs": [
        {
          "name": "stderr",
          "output_type": "stream",
          "text": [
            "/lib/python3.11/site-packages/sklearn/base.py:465: UserWarning: X does not have valid feature names, but LinearRegression was fitted with feature names\n",
            "  warnings.warn(\n"
          ]
        },
        {
          "data": {
            "text/plain": [
              "303.771984489029"
            ]
          },
          "execution_count": 101,
          "metadata": {},
          "output_type": "execute_result"
        }
      ],
      "source": [
        "predict_price('Rajajipuram',1100, 3, 2)"
      ]
    },
    {
      "cell_type": "code",
      "execution_count": 102,
      "metadata": {
        "trusted": true
      },
      "outputs": [
        {
          "data": {
            "text/plain": [
              "Index(['bhk', 'area_sq_ft', 'bathrooms', 'Aashiyana', 'Alambagh',\n",
              "       'Amity University Road', 'Amity University Road University Road',\n",
              "       'Anora Kala', 'Aurangabad', 'Aurangabad Khalsa',\n",
              "       ...\n",
              "       'South City', 'Sugamau Road', 'Sultanpur Road', 'Surendra Nagar',\n",
              "       'Takrohi', 'Tiwariganj', 'Uattardhona', 'Vijay Nagar', 'Vikas Nagar',\n",
              "       'Vrindavan Yojna'],\n",
              "      dtype='object', length=110)"
            ]
          },
          "execution_count": 102,
          "metadata": {},
          "output_type": "execute_result"
        }
      ],
      "source": [
        "X.columns"
      ]
    },
    {
      "cell_type": "code",
      "execution_count": 105,
      "metadata": {
        "trusted": true
      },
      "outputs": [
        {
          "data": {
            "text/plain": [
              "7"
            ]
          },
          "execution_count": 105,
          "metadata": {},
          "output_type": "execute_result"
        }
      ],
      "source": [
        "np.where(X.columns=='Anora Kala')[0][0]"
      ]
    },
    {
      "cell_type": "code",
      "execution_count": 106,
      "metadata": {
        "trusted": true
      },
      "outputs": [],
      "source": [
        "def predict_price(location,sqft,bath,bhk):    \n",
        "    loc_index = np.where(X.columns==location)[0][0]\n",
        "\n",
        "    x = np.zeros(len(X.columns))\n",
        "    x[0] = sqft\n",
        "    x[1] = bath\n",
        "    x[2] = bhk\n",
        "    if loc_index >= 0:\n",
        "        x[loc_index] = 1\n",
        "\n",
        "    return lr_clf.predict([x])[0]"
      ]
    },
    {
      "cell_type": "code",
      "execution_count": 129,
      "metadata": {
        "trusted": true
      },
      "outputs": [
        {
          "name": "stderr",
          "output_type": "stream",
          "text": [
            "/lib/python3.11/site-packages/sklearn/base.py:465: UserWarning: X does not have valid feature names, but LinearRegression was fitted with feature names\n",
            "  warnings.warn(\n"
          ]
        },
        {
          "data": {
            "text/plain": [
              "56.34116583188529"
            ]
          },
          "execution_count": 129,
          "metadata": {},
          "output_type": "execute_result"
        }
      ],
      "source": [
        "predict_price('Aurangabad',1000, 2, 2)/10*2"
      ]
    },
    {
      "cell_type": "code",
      "execution_count": 127,
      "metadata": {
        "trusted": true
      },
      "outputs": [],
      "source": [
        "import pickle\n",
        "with open('lucknow_home_prices_model.pickle','wb') as f:\n",
        "    pickle.dump(lr_clf,f)"
      ]
    },
    {
      "cell_type": "code",
      "execution_count": 130,
      "metadata": {
        "trusted": true
      },
      "outputs": [],
      "source": [
        "import json\n",
        "columns = {\n",
        "    'data_columns' : [col.lower() for col in X.columns]\n",
        "}\n",
        "with open(\"columns.json\",\"w\") as f:\n",
        "    f.write(json.dumps(columns))"
      ]
    },
    {
      "cell_type": "code",
      "execution_count": null,
      "metadata": {
        "trusted": true
      },
      "outputs": [],
      "source": []
    }
  ],
  "metadata": {
    "kernelspec": {
      "display_name": "Python (Pyodide)",
      "language": "python",
      "name": "python"
    },
    "language_info": {
      "codemirror_mode": {
        "name": "python",
        "version": 3
      },
      "file_extension": ".py",
      "mimetype": "text/x-python",
      "name": "python",
      "nbconvert_exporter": "python",
      "pygments_lexer": "ipython3",
      "version": "3.8"
    }
  },
  "nbformat": 4,
  "nbformat_minor": 4
}
